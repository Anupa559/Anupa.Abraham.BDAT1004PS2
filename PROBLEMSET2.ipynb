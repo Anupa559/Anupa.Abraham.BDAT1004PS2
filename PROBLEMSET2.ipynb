{
 "cells": [
  {
   "cell_type": "code",
   "execution_count": 1,
   "id": "8a6d01c3",
   "metadata": {},
   "outputs": [],
   "source": [
    "#QUESTION 1"
   ]
  },
  {
   "cell_type": "code",
   "execution_count": 2,
   "id": "b6238c63",
   "metadata": {},
   "outputs": [],
   "source": [
    "a = 0\n",
    "def b():\n",
    "    global a\n",
    "    a = c(a)\n",
    "def c(a):\n",
    "    return a + 2 "
   ]
  },
  {
   "cell_type": "code",
   "execution_count": 3,
   "id": "91f4f5c0",
   "metadata": {},
   "outputs": [
    {
     "data": {
      "text/plain": [
       "6"
      ]
     },
     "execution_count": 3,
     "metadata": {},
     "output_type": "execute_result"
    }
   ],
   "source": [
    "\n",
    "b()\n",
    "b()\n",
    "b()\n",
    "a"
   ]
  },
  {
   "cell_type": "code",
   "execution_count": 4,
   "id": "98df0f44",
   "metadata": {},
   "outputs": [],
   "source": [
    "#QUESTION 2"
   ]
  },
  {
   "cell_type": "code",
   "execution_count": 15,
   "id": "c4a7126f",
   "metadata": {},
   "outputs": [
    {
     "name": "stdout",
     "output_type": "stream",
     "text": [
      "123\n",
      "File idterm.py not found.\n"
     ]
    }
   ],
   "source": [
    "def file_length(file_name):\n",
    "    try:\n",
    "        file = open(file_name)\n",
    "        contents = file.read()\n",
    "        file.close()\n",
    "        print(len(contents))\n",
    "    except:\n",
    "        print(\"File \"+file_name+\" not found.\")\n",
    "        \n",
    "file_length(\"Midterm.py\")\n",
    "file_length(\"idterm.py\")"
   ]
  },
  {
   "cell_type": "code",
   "execution_count": null,
   "id": "f7ca9b3d",
   "metadata": {},
   "outputs": [],
   "source": [
    "# Question 3"
   ]
  },
  {
   "cell_type": "code",
   "execution_count": 16,
   "id": "24d1416b",
   "metadata": {},
   "outputs": [
    {
     "name": "stdout",
     "output_type": "stream",
     "text": [
      "I am a Kangaroo located at coordinates (0 ,0)\n",
      "['doll', 'firetruck', 'kitten']\n",
      "I am a Kangaroo located at coordinates (3 ,0)\n"
     ]
    }
   ],
   "source": [
    "class Marsupial:                \n",
    "    \n",
    "    def __init__(self,x,y):       \n",
    "        self.pouch=[]                   \n",
    "             \n",
    "    def put_in_pouch(self,items):   \n",
    "        self.pouch.append(items)\n",
    "        \n",
    "    def pouch_contents(self):           \n",
    "        return self.pouch\n",
    "\n",
    "\n",
    "\n",
    "class Kangaroo(Marsupial):         \n",
    "    def __init__(self,x,y):              \n",
    "        super().__init__(x,y)     \n",
    "        self.dx = 0                      \n",
    "        self.dy = 0                        \n",
    "    \n",
    "    def jump(self,x,y):                 \n",
    "        self.dx = self.dx + x    \n",
    "        self.dy = self.dy + y\n",
    "    \n",
    "    def __str__(self):          \n",
    "        \n",
    "        return ('I am a Kangaroo located at coordinates ({} ,{})'.format(self.dx,self.dy))\n",
    "\n",
    "\n",
    "\n",
    "k = Kangaroo(0,0)\n",
    "print(k)\n",
    "k.put_in_pouch('doll')\n",
    "k.put_in_pouch('firetruck')\n",
    "k.put_in_pouch('kitten')\n",
    "k.pouch_contents()\n",
    "print(k.pouch)  \n",
    "k.jump(1,0)\n",
    "k.jump(1,0)\n",
    "k.jump(1,0)\n",
    "print(k)\n"
   ]
  },
  {
   "cell_type": "code",
   "execution_count": 17,
   "id": "d6ea7b41",
   "metadata": {},
   "outputs": [],
   "source": [
    "# Question 4"
   ]
  },
  {
   "cell_type": "code",
   "execution_count": 18,
   "id": "f7ba4754",
   "metadata": {},
   "outputs": [],
   "source": [
    "def collatz (x):\n",
    "    if(x != 1):\n",
    "        print(x )\n",
    "    if(x == 1):\n",
    "        print(x )\n",
    "        return x\n",
    "    if(x%2 == 0):\n",
    "        x = x // 2\n",
    "        collatz(x)\n",
    "    else:\n",
    "        x= 3*x + 1\n",
    "        collatz(x)"
   ]
  },
  {
   "cell_type": "code",
   "execution_count": 19,
   "id": "00f9f6eb",
   "metadata": {},
   "outputs": [
    {
     "name": "stdout",
     "output_type": "stream",
     "text": [
      "1\n",
      "10\n",
      "5\n",
      "16\n",
      "8\n",
      "4\n",
      "2\n",
      "1\n"
     ]
    }
   ],
   "source": [
    "collatz(1)\n",
    "collatz(10)"
   ]
  },
  {
   "cell_type": "code",
   "execution_count": 20,
   "id": "21cbba9a",
   "metadata": {},
   "outputs": [],
   "source": [
    "#Question 5"
   ]
  },
  {
   "cell_type": "code",
   "execution_count": 58,
   "id": "a8894a5d",
   "metadata": {},
   "outputs": [
    {
     "name": "stdout",
     "output_type": "stream",
     "text": [
      "0\n",
      "1\n",
      "111\n",
      "1001111\n"
     ]
    }
   ],
   "source": [
    "binum =\"\"\n",
    "def binary (n):\n",
    "    global binum\n",
    "    if(n!=1):\n",
    "        if(n==0):\n",
    "            print(\"0\")\n",
    "        else:\n",
    "            r=\"\"\n",
    "            rem = int(n%2)\n",
    "            r=str(rem)\n",
    "            binum+=r\n",
    "            n =int(n/2)\n",
    "            binary(n)\n",
    "    else:\n",
    "        binum +=\"1\"\n",
    "        binum = binum [::-1] \n",
    "        print(binum)\n",
    "        bi_num=\"\"\n",
    "        \n",
    "binary(0)\n",
    "binary(1)\n",
    "binary(3)\n",
    "binary(9)"
   ]
  },
  {
   "cell_type": "code",
   "execution_count": 55,
   "id": "7658951e",
   "metadata": {},
   "outputs": [],
   "source": [
    "#Question 6"
   ]
  },
  {
   "cell_type": "code",
   "execution_count": null,
   "id": "a21d090f",
   "metadata": {},
   "outputs": [],
   "source": [
    "Yet to find answer"
   ]
  },
  {
   "cell_type": "code",
   "execution_count": 56,
   "id": "35409af3",
   "metadata": {},
   "outputs": [],
   "source": [
    "#Question 7"
   ]
  },
  {
   "cell_type": "code",
   "execution_count": null,
   "id": "d7bd7538",
   "metadata": {},
   "outputs": [],
   "source": [
    "Yet to find answer//not required to find the answers"
   ]
  },
  {
   "cell_type": "code",
   "execution_count": 26,
   "id": "177fea48",
   "metadata": {},
   "outputs": [],
   "source": [
    "#Question 8"
   ]
  },
  {
   "cell_type": "code",
   "execution_count": 33,
   "id": "beb2b4e2",
   "metadata": {},
   "outputs": [
    {
     "name": "stdout",
     "output_type": "stream",
     "text": [
      "(24.8,)(28.4,)(27.9,)(27.6,)(4.2,)(8.3,)(15.7,)(10.4,)(13.6,)(20.7,)(27.7,)(22.2,)\n",
      "('Mumbai',)('London',)('Cairo',)\n",
      "('Mumbai', 'India', 'Winter', 24.8, 5.9)('Mumbai', 'India', 'Spring', 28.4, 16.2)('Mumbai', 'India', 'Summer', 27.9, 1549.4)('Mumbai', 'India', 'Fall', 27.6, 346)\n",
      "('Mumbai', 'India', 'Fall', 27.6, 346)('London', 'United Kingdom', 'Fall', 10.4, 218.5)('Cairo', 'Egypt', 'Fall', 22.2, 4.5)\n",
      "('Mumbai', 'India', 'Fall')('London', 'United Kingdom', 'Winter')('London', 'United Kingdom', 'Fall')\n",
      "('Cairo', 'Egypt')('Mumbai', 'India')\n",
      "(27.6,)\n",
      "\n",
      "('Fall', 569.0)\n",
      "('Spring', 192.29999999999998)\n",
      "('Summer', 1706.5)\n",
      "('Winter', 230.1)\n"
     ]
    }
   ],
   "source": [
    "import sqlite3\n",
    "conn = sqlite3.connect('MYDB2.db')\n",
    "conn.execute('''\n",
    "CREATE TABLE IF NOT EXISTS FORECAST1(city string,\n",
    "                      country string,\n",
    "                      season string,\n",
    "                      temperature integer,\n",
    "                      rainfall integer);''')\n",
    "conn.commit()\n",
    "x = conn.cursor()\n",
    "conn.execute(\"INSERT INTO FORECAST1 VALUES('Mumbai', 'India', 'Winter', 24.8, 5.9);\")\n",
    "conn.execute(\"INSERT INTO FORECAST1 VALUES('Mumbai', 'India', 'Spring', 28.4, 16.2);\")\n",
    "conn.execute(\"INSERT INTO FORECAST1 VALUES('Mumbai', 'India', 'Summer', 27.9, 1549.4);\")\n",
    "conn.execute(\"INSERT INTO FORECAST1 VALUES('Mumbai', 'India', 'Fall', 27.6, 346.0);\")\n",
    "conn.execute(\"INSERT INTO FORECAST1 VALUES('London', 'United Kingdom', 'Winter', 4.2, 207.7);\")\n",
    "conn.execute(\"INSERT INTO FORECAST1 VALUES('London', 'United Kingdom', 'Spring', 8.3, 169.6 );\")\n",
    "conn.execute(\"INSERT INTO FORECAST1 VALUES('London', 'United Kingdom', 'Summer', 15.7, 157.0);\")\n",
    "conn.execute(\"INSERT INTO FORECAST1 VALUES('London', 'United Kingdom', 'Fall', 10.4, 218.5);\")\n",
    "conn.execute(\"INSERT INTO FORECAST1 VALUES('Cairo', 'Egypt', 'Winter', 13.6, 16.5);\")\n",
    "conn.execute(\"INSERT INTO FORECAST1 VALUES('Cairo', 'Egypt', 'Spring', 20.7, 6.5);\")\n",
    "conn.execute(\"INSERT INTO FORECAST1 VALUES('Cairo', 'Egypt', 'Summer', 27.7, 0.1);\")\n",
    "conn.execute(\"INSERT INTO FORECAST1 VALUES('Cairo', 'Egypt', 'Fall', 22.2, 4.5);\")\n",
    "\n",
    "\n",
    "\n",
    "x.execute(\"SELECT temperature from FORECAST1\")\n",
    "y=x.fetchall()             \n",
    "for i in y:\n",
    "  print(i, end=\"\")\n",
    "\n",
    "\n",
    "\n",
    "print()\n",
    "x.execute(\"SELECT DISTINCT(city) from FORECAST1\")\n",
    "y = x.fetchall()\n",
    "for i in y:                         \n",
    "  print(i, end=\"\")\n",
    "\n",
    "\n",
    "\n",
    "print()\n",
    "x.execute(\"SELECT * from FORECAST1 WHERE country = 'India'\")\n",
    "y = x.fetchall()\n",
    "for i in y:                            \n",
    "  print(i, end=\"\")\n",
    "\n",
    "\n",
    "\n",
    "print()\n",
    "x.execute(\"SELECT * from FORECAST1 WHERE season = 'Fall'\")\n",
    "y = x.fetchall()\n",
    "for i in y:                            \n",
    "  print(i, end=\"\")\n",
    "\n",
    "\n",
    "\n",
    "print()\n",
    "x.execute(\"SELECT city,country,season from FORECAST1 WHERE rainfall BETWEEN 200 and 400\")\n",
    "y = x.fetchall()\n",
    "for i in y:                                \n",
    "  print(i, end=\"\")\n",
    "\n",
    "\n",
    "\n",
    "print()\n",
    "x.execute(\"SELECT city,country from FORECAST1 WHERE (season = 'Fall' and temperature > 20) Order BY temperature ASC \")\n",
    "y = x.fetchall()\n",
    "for i in y:                             \n",
    "  print(i, end=\"\")\n",
    "\n",
    "\n",
    "\n",
    "print()\n",
    "x.execute(\"SELECT sum(rainfall) from FORECAST1 WHERE city = 'Cairo'\")\n",
    "y = x.fetchall()\n",
    "for i in y:\n",
    "  print(i)\n",
    "print\n",
    "print()\n",
    "x.execute(\"SELECT season, sum(rainfall) from FORECAST1 group by season\")\n",
    "y = x.fetchall()\n",
    "for i in y:                                \n",
    "  print(i)\n",
    "\n",
    "\n",
    "\n",
    "conn.close()"
   ]
  },
  {
   "cell_type": "code",
   "execution_count": 34,
   "id": "e21068c7",
   "metadata": {},
   "outputs": [],
   "source": [
    "# Question 9"
   ]
  },
  {
   "cell_type": "code",
   "execution_count": 38,
   "id": "4fbe3eaa",
   "metadata": {},
   "outputs": [
    {
     "name": "stdout",
     "output_type": "stream",
     "text": [
      "['THE', 'QUICK', 'BROWN', 'FOX', 'JUMPS', 'OVER', 'THE', 'LAZY', 'DOG']\n",
      "['the', 'quick', 'brown', 'fox', 'jumps', 'over', 'the', 'lazy', 'dog']\n",
      "[3, 5, 5, 3, 5, 4, 3, 4, 3]\n",
      "[['THE', 'the', 3], ['QUICK', 'quick', 5], ['BROWN', 'brown', 5], ['FOX', 'fox', 3], ['JUMPS', 'jumps', 5], ['OVER', 'over', 4], ['THE', 'the', 3], ['LAZY', 'lazy', 4], ['DOG', 'dog', 3]]\n",
      "['The', 'quick', 'brown', 'fox', 'jumps', 'over', 'the', 'lazy', 'dog']\n"
     ]
    }
   ],
   "source": [
    "words = ['The', 'quick', 'brown', 'fox', 'jumps', 'over', 'the', 'lazy', 'dog']\n",
    "print([w1.upper() for w1 in words])\n",
    "print([w2.lower() for w2 in words])\n",
    "print([len(w1) for w1 in words])\n",
    "print([[w1.upper(), w1.lower(), len(w1)]for w1 in words])\n",
    "print([w1 for w1 in words if len(w1) >= 3])"
   ]
  },
  {
   "cell_type": "code",
   "execution_count": null,
   "id": "24f5b056",
   "metadata": {},
   "outputs": [],
   "source": []
  }
 ],
 "metadata": {
  "kernelspec": {
   "display_name": "Python 3 (ipykernel)",
   "language": "python",
   "name": "python3"
  },
  "language_info": {
   "codemirror_mode": {
    "name": "ipython",
    "version": 3
   },
   "file_extension": ".py",
   "mimetype": "text/x-python",
   "name": "python",
   "nbconvert_exporter": "python",
   "pygments_lexer": "ipython3",
   "version": "3.9.12"
  }
 },
 "nbformat": 4,
 "nbformat_minor": 5
}
